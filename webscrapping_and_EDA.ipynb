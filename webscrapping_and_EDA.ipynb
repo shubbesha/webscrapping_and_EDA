{
 "cells": [
  {
   "cell_type": "markdown",
   "metadata": {},
   "source": [
    "# CAPSTONE PROJECT - WEBSCRAPPING AND EDA"
   ]
  },
  {
   "cell_type": "code",
   "execution_count": 2,
   "metadata": {},
   "outputs": [
    {
     "name": "stdout",
     "output_type": "stream",
     "text": [
      "Processing c:\\users\\opera\\appdata\\local\\pip\\cache\\wheels\\a0\\b8\\b7\\8c942b2c5be5158b874a88195116b05ad124bac795f6665e65\\fake_useragent-0.1.11-py3-none-any.whl\n",
      "Installing collected packages: fake-useragent\n",
      "Successfully installed fake-useragent-0.1.11\n"
     ]
    }
   ],
   "source": [
    "! pip install fake_useragent"
   ]
  },
  {
   "cell_type": "code",
   "execution_count": 1,
   "metadata": {},
   "outputs": [],
   "source": [
    "# importing necessary libraries to process website scrapping, extracting data and performing EDA\n",
    "import requests\n",
    "import bs4\n",
    "from bs4 import BeautifulSoup\n",
    "from fake_useragent import UserAgent\n",
    "import pandas as pd\n",
    "import seaborn as sns\n",
    "import matplotlib.pyplot as plt"
   ]
  },
  {
   "cell_type": "code",
   "execution_count": 2,
   "metadata": {},
   "outputs": [],
   "source": [
    "# In the below project I'm going to scrap laptop as a product from Flipkart. I'm going to analyze different features of \n",
    "# different laptops and make a comparison among them. My analysis will help an user decide which laptop to buy with particular  \n",
    "# features and within a specified budget.\n",
    "\n",
    "product_name = 'laptop' "
   ]
  },
  {
   "cell_type": "code",
   "execution_count": 3,
   "metadata": {},
   "outputs": [],
   "source": [
    "# creating below empty lists to store required data from the unstructured scrapped page.\n",
    "\n",
    "count = 0 \n",
    "products = [] # list to store product title\n",
    "prices = [] # list to store product price\n",
    "ratings = [] # list to store product ratings\n",
    "cpu = [] # list to store CPU specifications\n",
    "ram = [] # list to store RAM specifications \n",
    "os = [] # list to store Operating System specifications\n",
    "hd = [] # list to store storage specifications \n",
    "display = [] # list to store display specifications\n",
    "\n",
    "df = pd.DataFrame() # initializaion of Dataframe\n"
   ]
  },
  {
   "cell_type": "code",
   "execution_count": 4,
   "metadata": {},
   "outputs": [
    {
     "name": "stderr",
     "output_type": "stream",
     "text": [
      "Error occurred during loading data. Trying to use cache server https://fake-useragent.herokuapp.com/browsers/0.1.11\n",
      "Traceback (most recent call last):\n",
      "  File \"C:\\Users\\opera\\anaconda3\\lib\\site-packages\\fake_useragent\\utils.py\", line 154, in load\n",
      "    for item in get_browsers(verify_ssl=verify_ssl):\n",
      "  File \"C:\\Users\\opera\\anaconda3\\lib\\site-packages\\fake_useragent\\utils.py\", line 99, in get_browsers\n",
      "    html = html.split('<table class=\"w3-table-all notranslate\">')[1]\n",
      "IndexError: list index out of range\n"
     ]
    }
   ],
   "source": [
    "# Creating user agent before scrapping the website \n",
    "\n",
    "user_agent = UserAgent() #Dummy user agent"
   ]
  },
  {
   "cell_type": "code",
   "execution_count": 5,
   "metadata": {},
   "outputs": [
    {
     "name": "stdout",
     "output_type": "stream",
     "text": [
      "No. of rows searched 144\n"
     ]
    }
   ],
   "source": [
    "# Here is the page of Flipkart website I'm going to scrap : https://www.flipkart.com/search?q=laptop&page=1\n",
    "\n",
    "for i in range(1, 7): #limiting scrap upto 7 pages\n",
    "    url = \"https://www.flipkart.com/search?q={0}&page={1}\"\n",
    "    url = url.format(product_name, i)\n",
    "     \n",
    "    page = requests.get(url, headers={\"user-agent\": user_agent.chrome})\n",
    "    \n",
    "    html_page = page.content \n",
    "    \n",
    "    bs_page = bs4.BeautifulSoup(html_page, \"html.parser\")\n",
    "    \n",
    "    for containers in bs_page.findAll('a', {'class':'_1fQZEK'}):\n",
    "        name = containers.find('div', attrs={'class':'_4rR01T'})\n",
    "        price = containers.find('div', attrs={'class':'_30jeq3 _1_WHN1'})\n",
    "        rating = containers.find('div', attrs={'class':'_3LWZlK'})\n",
    "        \n",
    "        specification = containers.find('div', attrs={'class':'fMghEO'})\n",
    "        \n",
    "        for col in specification:\n",
    "            col=col.find_all('li', attrs ={'class':'rgWa7D'})\n",
    "            cput=col[0].text\n",
    "            ramt=col[1].text\n",
    "            ost=col[2].text\n",
    "            hdt=col[3].text\n",
    "            displayt=col[4].text\n",
    "        \n",
    "        # Adding products to the empty lists created in above cell.\n",
    "        products.append(name.text)\n",
    "        prices.append(price.text) \n",
    "        ratings.append(rating.text) if type(rating) == bs4.element.Tag else ratings.append('NaN') \n",
    "        cpu.append(cput)\n",
    "        ram.append(ramt)\n",
    "        os.append(ost)  \n",
    "        hd.append(hdt)  \n",
    "        display.append(displayt)\n",
    "        \n",
    "        count = count + 1  \n",
    "        \n",
    "    df = pd.DataFrame({'Product Name': products, 'CPU': cpu, 'RAM': ram, 'OS': os, 'HD Capacity': hd, 'Display': display,'Price': prices,'Ratings': ratings})\n",
    "    \n",
    "    #print(page_soup.prettify()) # For tag identification and debugging purpose\n",
    "\n",
    "print('No. of rows searched', count)\n",
    " "
   ]
  },
  {
   "cell_type": "code",
   "execution_count": 18,
   "metadata": {
    "scrolled": true
   },
   "outputs": [
    {
     "data": {
      "text/html": [
       "<div>\n",
       "<style scoped>\n",
       "    .dataframe tbody tr th:only-of-type {\n",
       "        vertical-align: middle;\n",
       "    }\n",
       "\n",
       "    .dataframe tbody tr th {\n",
       "        vertical-align: top;\n",
       "    }\n",
       "\n",
       "    .dataframe thead th {\n",
       "        text-align: right;\n",
       "    }\n",
       "</style>\n",
       "<table border=\"1\" class=\"dataframe\">\n",
       "  <thead>\n",
       "    <tr style=\"text-align: right;\">\n",
       "      <th></th>\n",
       "      <th>Product Name</th>\n",
       "      <th>CPU</th>\n",
       "      <th>RAM</th>\n",
       "      <th>OS</th>\n",
       "      <th>HD Capacity</th>\n",
       "      <th>Display</th>\n",
       "      <th>Price</th>\n",
       "      <th>Ratings</th>\n",
       "    </tr>\n",
       "  </thead>\n",
       "  <tbody>\n",
       "    <tr>\n",
       "      <th>0</th>\n",
       "      <td>HP 14s Core i3 11th Gen - (8 GB/256 GB SSD/Win...</td>\n",
       "      <td>Intel Core i3 Processor (11th Gen)</td>\n",
       "      <td>8 GB DDR4 RAM</td>\n",
       "      <td>64 bit Windows 10 Operating System</td>\n",
       "      <td>256 GB SSD</td>\n",
       "      <td>35.56 cm (14 inch) Display</td>\n",
       "      <td>₹41,890</td>\n",
       "      <td>4.4</td>\n",
       "    </tr>\n",
       "    <tr>\n",
       "      <th>1</th>\n",
       "      <td>DELL Inspiron Ryzen 3 Dual Core 3250U - (8 GB/...</td>\n",
       "      <td>AMD Ryzen 3 Dual Core Processor</td>\n",
       "      <td>8 GB DDR4 RAM</td>\n",
       "      <td>64 bit Windows 10 Operating System</td>\n",
       "      <td>256 GB SSD</td>\n",
       "      <td>39.62 cm (15.6 inches) Display</td>\n",
       "      <td>₹39,990</td>\n",
       "      <td>4.1</td>\n",
       "    </tr>\n",
       "    <tr>\n",
       "      <th>2</th>\n",
       "      <td>Lenovo IdeaPad Slim 3i (2021) Core i3 11th Gen...</td>\n",
       "      <td>Intel Core i3 Processor (11th Gen)</td>\n",
       "      <td>8 GB DDR4 RAM</td>\n",
       "      <td>64 bit Windows 10 Operating System</td>\n",
       "      <td>512 GB SSD</td>\n",
       "      <td>35.56 cm (14 inch) Display</td>\n",
       "      <td>₹45,990</td>\n",
       "      <td>4.4</td>\n",
       "    </tr>\n",
       "    <tr>\n",
       "      <th>3</th>\n",
       "      <td>HP 15s Core i3 10th Gen - (8 GB/1 TB HDD/Windo...</td>\n",
       "      <td>Intel Core i3 Processor (10th Gen)</td>\n",
       "      <td>8 GB DDR4 RAM</td>\n",
       "      <td>64 bit Windows 10 Operating System</td>\n",
       "      <td>1 TB HDD</td>\n",
       "      <td>39.62 cm (15.6 Inch) Display</td>\n",
       "      <td>₹40,990</td>\n",
       "      <td>4.1</td>\n",
       "    </tr>\n",
       "    <tr>\n",
       "      <th>4</th>\n",
       "      <td>Lenovo IdeaPad 3 Core i3 10th Gen - (8 GB/1 TB...</td>\n",
       "      <td>Intel Core i3 Processor (10th Gen)</td>\n",
       "      <td>8 GB DDR4 RAM</td>\n",
       "      <td>64 bit Windows 10 Operating System</td>\n",
       "      <td>1 TB HDD</td>\n",
       "      <td>39.62 cm (15.6 inch) Display</td>\n",
       "      <td>₹39,990</td>\n",
       "      <td>4.1</td>\n",
       "    </tr>\n",
       "  </tbody>\n",
       "</table>\n",
       "</div>"
      ],
      "text/plain": [
       "                                        Product Name  \\\n",
       "0  HP 14s Core i3 11th Gen - (8 GB/256 GB SSD/Win...   \n",
       "1  DELL Inspiron Ryzen 3 Dual Core 3250U - (8 GB/...   \n",
       "2  Lenovo IdeaPad Slim 3i (2021) Core i3 11th Gen...   \n",
       "3  HP 15s Core i3 10th Gen - (8 GB/1 TB HDD/Windo...   \n",
       "4  Lenovo IdeaPad 3 Core i3 10th Gen - (8 GB/1 TB...   \n",
       "\n",
       "                                  CPU            RAM  \\\n",
       "0  Intel Core i3 Processor (11th Gen)  8 GB DDR4 RAM   \n",
       "1     AMD Ryzen 3 Dual Core Processor  8 GB DDR4 RAM   \n",
       "2  Intel Core i3 Processor (11th Gen)  8 GB DDR4 RAM   \n",
       "3  Intel Core i3 Processor (10th Gen)  8 GB DDR4 RAM   \n",
       "4  Intel Core i3 Processor (10th Gen)  8 GB DDR4 RAM   \n",
       "\n",
       "                                   OS HD Capacity  \\\n",
       "0  64 bit Windows 10 Operating System  256 GB SSD   \n",
       "1  64 bit Windows 10 Operating System  256 GB SSD   \n",
       "2  64 bit Windows 10 Operating System  512 GB SSD   \n",
       "3  64 bit Windows 10 Operating System    1 TB HDD   \n",
       "4  64 bit Windows 10 Operating System    1 TB HDD   \n",
       "\n",
       "                          Display    Price Ratings  \n",
       "0      35.56 cm (14 inch) Display  ₹41,890     4.4  \n",
       "1  39.62 cm (15.6 inches) Display  ₹39,990     4.1  \n",
       "2      35.56 cm (14 inch) Display  ₹45,990     4.4  \n",
       "3    39.62 cm (15.6 Inch) Display  ₹40,990     4.1  \n",
       "4    39.62 cm (15.6 inch) Display  ₹39,990     4.1  "
      ]
     },
     "execution_count": 18,
     "metadata": {},
     "output_type": "execute_result"
    }
   ],
   "source": [
    "# Here is the top five rows of data.\n",
    "\n",
    "df.head()"
   ]
  },
  {
   "cell_type": "code",
   "execution_count": 19,
   "metadata": {},
   "outputs": [
    {
     "data": {
      "text/plain": [
       "0        35.56 cm (14 inch) Display\n",
       "1    39.62 cm (15.6 inches) Display\n",
       "2        35.56 cm (14 inch) Display\n",
       "3      39.62 cm (15.6 Inch) Display\n",
       "4      39.62 cm (15.6 inch) Display\n",
       "Name: Display, dtype: object"
      ]
     },
     "execution_count": 19,
     "metadata": {},
     "output_type": "execute_result"
    }
   ],
   "source": [
    "df.Display.head()"
   ]
  },
  {
   "cell_type": "code",
   "execution_count": 23,
   "metadata": {},
   "outputs": [
    {
     "ename": "ValueError",
     "evalue": "invalid literal for int() with base 10: ''",
     "output_type": "error",
     "traceback": [
      "\u001b[1;31m---------------------------------------------------------------------------\u001b[0m",
      "\u001b[1;31mValueError\u001b[0m                                Traceback (most recent call last)",
      "\u001b[1;32m<ipython-input-23-f23925d64ec2>\u001b[0m in \u001b[0;36m<module>\u001b[1;34m\u001b[0m\n\u001b[1;32m----> 1\u001b[1;33m \u001b[0mdf\u001b[0m\u001b[1;33m.\u001b[0m\u001b[0mDisplay\u001b[0m\u001b[1;33m.\u001b[0m\u001b[0mapply\u001b[0m\u001b[1;33m(\u001b[0m\u001b[1;32mlambda\u001b[0m \u001b[0mx\u001b[0m\u001b[1;33m:\u001b[0m \u001b[0mint\u001b[0m\u001b[1;33m(\u001b[0m\u001b[0mx\u001b[0m\u001b[1;33m[\u001b[0m\u001b[1;36m10\u001b[0m\u001b[1;33m:\u001b[0m\u001b[1;36m12\u001b[0m\u001b[1;33m]\u001b[0m\u001b[1;33m)\u001b[0m\u001b[1;33m)\u001b[0m\u001b[1;33m\u001b[0m\u001b[1;33m\u001b[0m\u001b[0m\n\u001b[0m",
      "\u001b[1;32m~\\anaconda3\\lib\\site-packages\\pandas\\core\\series.py\u001b[0m in \u001b[0;36mapply\u001b[1;34m(self, func, convert_dtype, args, **kwds)\u001b[0m\n\u001b[0;32m   3846\u001b[0m             \u001b[1;32melse\u001b[0m\u001b[1;33m:\u001b[0m\u001b[1;33m\u001b[0m\u001b[1;33m\u001b[0m\u001b[0m\n\u001b[0;32m   3847\u001b[0m                 \u001b[0mvalues\u001b[0m \u001b[1;33m=\u001b[0m \u001b[0mself\u001b[0m\u001b[1;33m.\u001b[0m\u001b[0mastype\u001b[0m\u001b[1;33m(\u001b[0m\u001b[0mobject\u001b[0m\u001b[1;33m)\u001b[0m\u001b[1;33m.\u001b[0m\u001b[0mvalues\u001b[0m\u001b[1;33m\u001b[0m\u001b[1;33m\u001b[0m\u001b[0m\n\u001b[1;32m-> 3848\u001b[1;33m                 \u001b[0mmapped\u001b[0m \u001b[1;33m=\u001b[0m \u001b[0mlib\u001b[0m\u001b[1;33m.\u001b[0m\u001b[0mmap_infer\u001b[0m\u001b[1;33m(\u001b[0m\u001b[0mvalues\u001b[0m\u001b[1;33m,\u001b[0m \u001b[0mf\u001b[0m\u001b[1;33m,\u001b[0m \u001b[0mconvert\u001b[0m\u001b[1;33m=\u001b[0m\u001b[0mconvert_dtype\u001b[0m\u001b[1;33m)\u001b[0m\u001b[1;33m\u001b[0m\u001b[1;33m\u001b[0m\u001b[0m\n\u001b[0m\u001b[0;32m   3849\u001b[0m \u001b[1;33m\u001b[0m\u001b[0m\n\u001b[0;32m   3850\u001b[0m         \u001b[1;32mif\u001b[0m \u001b[0mlen\u001b[0m\u001b[1;33m(\u001b[0m\u001b[0mmapped\u001b[0m\u001b[1;33m)\u001b[0m \u001b[1;32mand\u001b[0m \u001b[0misinstance\u001b[0m\u001b[1;33m(\u001b[0m\u001b[0mmapped\u001b[0m\u001b[1;33m[\u001b[0m\u001b[1;36m0\u001b[0m\u001b[1;33m]\u001b[0m\u001b[1;33m,\u001b[0m \u001b[0mSeries\u001b[0m\u001b[1;33m)\u001b[0m\u001b[1;33m:\u001b[0m\u001b[1;33m\u001b[0m\u001b[1;33m\u001b[0m\u001b[0m\n",
      "\u001b[1;32mpandas\\_libs\\lib.pyx\u001b[0m in \u001b[0;36mpandas._libs.lib.map_infer\u001b[1;34m()\u001b[0m\n",
      "\u001b[1;32m<ipython-input-23-f23925d64ec2>\u001b[0m in \u001b[0;36m<lambda>\u001b[1;34m(x)\u001b[0m\n\u001b[1;32m----> 1\u001b[1;33m \u001b[0mdf\u001b[0m\u001b[1;33m.\u001b[0m\u001b[0mDisplay\u001b[0m\u001b[1;33m.\u001b[0m\u001b[0mapply\u001b[0m\u001b[1;33m(\u001b[0m\u001b[1;32mlambda\u001b[0m \u001b[0mx\u001b[0m\u001b[1;33m:\u001b[0m \u001b[0mint\u001b[0m\u001b[1;33m(\u001b[0m\u001b[0mx\u001b[0m\u001b[1;33m[\u001b[0m\u001b[1;36m10\u001b[0m\u001b[1;33m:\u001b[0m\u001b[1;36m12\u001b[0m\u001b[1;33m]\u001b[0m\u001b[1;33m)\u001b[0m\u001b[1;33m)\u001b[0m\u001b[1;33m\u001b[0m\u001b[1;33m\u001b[0m\u001b[0m\n\u001b[0m",
      "\u001b[1;31mValueError\u001b[0m: invalid literal for int() with base 10: ''"
     ]
    }
   ],
   "source": [
    "df.Display.apply(lambda x: int(x[10:12]))"
   ]
  },
  {
   "cell_type": "code",
   "execution_count": null,
   "metadata": {},
   "outputs": [],
   "source": []
  },
  {
   "cell_type": "code",
   "execution_count": 11,
   "metadata": {},
   "outputs": [
    {
     "data": {
      "text/plain": [
       "Lenovo ThinkPad E15 Core i5 11th Gen - (8 GB/512 GB SSD/Windows 10 Home) E15 Thin and Light Laptop           4\n",
       "Lenovo IdeaPad 3 Core i3 10th Gen - (8 GB/1 TB HDD/Windows 10 Home) 15IML05 Thin and Light Laptop            4\n",
       "ASUS TUF Gaming F15 Core i5 10th Gen - (8 GB/512 GB SSD/Windows 10 Home/4 GB Graphics/NVIDIA GeForce G...    4\n",
       "ASUS VivoBook Flip 14 Core i3 10th Gen - (4 GB/512 GB SSD/Windows 10 Home) TP412FA-EC372TS 2 in 1 Lapt...    3\n",
       "Lenovo Ideapad Slim 3i (2021) Core i5 11th Gen - (8 GB/512 GB SSD/Windows 10 Home) IdeaPad 3 15ITL6 Th...    3\n",
       "                                                                                                            ..\n",
       "ASUS VivoBook Flip Ryzen 7 Octa Core - (8 GB/512 GB SSD/Windows 10 Home) TM420UA-EC701TS 2 in 1 Laptop       1\n",
       "ASUS TUF Gaming F17 (2021) Core i5 11th Gen - (8 GB/1 TB SSD/Windows 10 Home/4 GB Graphics/NVIDIA GeFo...    1\n",
       "ASUS Ryzen 5 Quad Core - (8 GB/1 TB HDD/Windows 10 Home) M415DA-EB502TS Laptop                               1\n",
       "DELL Inspiron Core i7 11th Gen - (8 GB/512 GB SSD/Windows 10 Home/2 GB Graphics) Inspiron 5409 Thin an...    1\n",
       "APPLE MacBook Pro with Touch Bar Core i5 10th Gen - (16 GB/1 TB SSD/Mac OS Catalina) MWP52HN/A               1\n",
       "Name: Product Name, Length: 132, dtype: int64"
      ]
     },
     "execution_count": 11,
     "metadata": {},
     "output_type": "execute_result"
    }
   ],
   "source": [
    "df['Product Name'].value_counts()"
   ]
  },
  {
   "cell_type": "code",
   "execution_count": 12,
   "metadata": {
    "scrolled": true
   },
   "outputs": [
    {
     "data": {
      "text/plain": [
       "Int64Index([6, 17, 78, 89, 210, 213], dtype='int64')"
      ]
     },
     "execution_count": 12,
     "metadata": {},
     "output_type": "execute_result"
    }
   ],
   "source": [
    "# Identify rows with wrongly positioned data \n",
    "# i.e. a particular data misplaced under a different column\n",
    "\n",
    "a = df[(~df['CPU'].str.contains('Processor'))|(~df['RAM'].str.contains('RAM'))|(~df['OS'].str.contains('Operating'))|(~df['HD Capacity'].str.contains('GB|TB'))].index\n",
    "a # Save index information of such rows\n"
   ]
  },
  {
   "cell_type": "code",
   "execution_count": 13,
   "metadata": {},
   "outputs": [],
   "source": [
    "df = df.drop(a, axis=0)  ## Dropping rows with wrongly positioned data elements"
   ]
  },
  {
   "cell_type": "code",
   "execution_count": 14,
   "metadata": {
    "scrolled": true
   },
   "outputs": [
    {
     "data": {
      "text/html": [
       "<div>\n",
       "<style scoped>\n",
       "    .dataframe tbody tr th:only-of-type {\n",
       "        vertical-align: middle;\n",
       "    }\n",
       "\n",
       "    .dataframe tbody tr th {\n",
       "        vertical-align: top;\n",
       "    }\n",
       "\n",
       "    .dataframe thead th {\n",
       "        text-align: right;\n",
       "    }\n",
       "</style>\n",
       "<table border=\"1\" class=\"dataframe\">\n",
       "  <thead>\n",
       "    <tr style=\"text-align: right;\">\n",
       "      <th></th>\n",
       "      <th>Product Name</th>\n",
       "      <th>CPU</th>\n",
       "      <th>RAM</th>\n",
       "      <th>OS</th>\n",
       "      <th>HD Capacity</th>\n",
       "      <th>Display</th>\n",
       "      <th>Price</th>\n",
       "      <th>Ratings</th>\n",
       "    </tr>\n",
       "  </thead>\n",
       "  <tbody>\n",
       "    <tr>\n",
       "      <th>0</th>\n",
       "      <td>MSI Prestige 14 Core i7 10th Gen - (16 GB/512 ...</td>\n",
       "      <td>Intel Core i7 Processor (10th Gen)</td>\n",
       "      <td>16 GB DDR4 RAM</td>\n",
       "      <td>64 bit Windows 10 Operating System</td>\n",
       "      <td>512 GB SSD</td>\n",
       "      <td>35.56 cm (14 inch) Display</td>\n",
       "      <td>84990</td>\n",
       "      <td>4.1</td>\n",
       "    </tr>\n",
       "    <tr>\n",
       "      <th>1</th>\n",
       "      <td>HP 14s Core i3 11th Gen - (8 GB/256 GB SSD/Win...</td>\n",
       "      <td>Intel Core i3 Processor (11th Gen)</td>\n",
       "      <td>8 GB DDR4 RAM</td>\n",
       "      <td>64 bit Windows 10 Operating System</td>\n",
       "      <td>256 GB SSD</td>\n",
       "      <td>35.56 cm (14 inch) Display</td>\n",
       "      <td>41890</td>\n",
       "      <td>4.4</td>\n",
       "    </tr>\n",
       "    <tr>\n",
       "      <th>2</th>\n",
       "      <td>Lenovo APU Dual Core A9 A99425 - (4 GB/1 TB HD...</td>\n",
       "      <td>AMD APU Dual Core A9 Processor</td>\n",
       "      <td>4 GB DDR4 RAM</td>\n",
       "      <td>64 bit DOS Operating System</td>\n",
       "      <td>1 TB HDD</td>\n",
       "      <td>35.56 cm (14 inch) Display</td>\n",
       "      <td>28000</td>\n",
       "      <td>4.6</td>\n",
       "    </tr>\n",
       "    <tr>\n",
       "      <th>3</th>\n",
       "      <td>Lenovo IdeaPad 3 Core i3 10th Gen - (8 GB/1 TB...</td>\n",
       "      <td>Intel Core i3 Processor (10th Gen)</td>\n",
       "      <td>8 GB DDR4 RAM</td>\n",
       "      <td>64 bit Windows 10 Operating System</td>\n",
       "      <td>1 TB HDD</td>\n",
       "      <td>39.62 cm (15.6 inch) Display</td>\n",
       "      <td>39990</td>\n",
       "      <td>4.3</td>\n",
       "    </tr>\n",
       "    <tr>\n",
       "      <th>4</th>\n",
       "      <td>HP Pavilion Ryzen 5 Hexa Core 5600H - (8 GB/51...</td>\n",
       "      <td>AMD Ryzen 5 Hexa Core Processor</td>\n",
       "      <td>8 GB DDR4 RAM</td>\n",
       "      <td>64 bit Windows 10 Operating System</td>\n",
       "      <td>512 GB SSD</td>\n",
       "      <td>39.62 cm (15.6 inch) Display</td>\n",
       "      <td>64056</td>\n",
       "      <td>4.5</td>\n",
       "    </tr>\n",
       "  </tbody>\n",
       "</table>\n",
       "</div>"
      ],
      "text/plain": [
       "                                        Product Name  \\\n",
       "0  MSI Prestige 14 Core i7 10th Gen - (16 GB/512 ...   \n",
       "1  HP 14s Core i3 11th Gen - (8 GB/256 GB SSD/Win...   \n",
       "2  Lenovo APU Dual Core A9 A99425 - (4 GB/1 TB HD...   \n",
       "3  Lenovo IdeaPad 3 Core i3 10th Gen - (8 GB/1 TB...   \n",
       "4  HP Pavilion Ryzen 5 Hexa Core 5600H - (8 GB/51...   \n",
       "\n",
       "                                  CPU             RAM  \\\n",
       "0  Intel Core i7 Processor (10th Gen)  16 GB DDR4 RAM   \n",
       "1  Intel Core i3 Processor (11th Gen)   8 GB DDR4 RAM   \n",
       "2      AMD APU Dual Core A9 Processor   4 GB DDR4 RAM   \n",
       "3  Intel Core i3 Processor (10th Gen)   8 GB DDR4 RAM   \n",
       "4     AMD Ryzen 5 Hexa Core Processor   8 GB DDR4 RAM   \n",
       "\n",
       "                                   OS HD Capacity  \\\n",
       "0  64 bit Windows 10 Operating System  512 GB SSD   \n",
       "1  64 bit Windows 10 Operating System  256 GB SSD   \n",
       "2         64 bit DOS Operating System    1 TB HDD   \n",
       "3  64 bit Windows 10 Operating System    1 TB HDD   \n",
       "4  64 bit Windows 10 Operating System  512 GB SSD   \n",
       "\n",
       "                        Display  Price Ratings  \n",
       "0    35.56 cm (14 inch) Display  84990     4.1  \n",
       "1    35.56 cm (14 inch) Display  41890     4.4  \n",
       "2    35.56 cm (14 inch) Display  28000     4.6  \n",
       "3  39.62 cm (15.6 inch) Display  39990     4.3  \n",
       "4  39.62 cm (15.6 inch) Display  64056     4.5  "
      ]
     },
     "execution_count": 14,
     "metadata": {},
     "output_type": "execute_result"
    }
   ],
   "source": [
    "df['Price'] = df['Price'].str.lstrip('₹')\n",
    "df['Price'] = df['Price'].replace({',':''}, regex=True)\n",
    "df.head()                     "
   ]
  },
  {
   "cell_type": "code",
   "execution_count": 68,
   "metadata": {},
   "outputs": [
    {
     "data": {
      "text/html": [
       "<div>\n",
       "<style scoped>\n",
       "    .dataframe tbody tr th:only-of-type {\n",
       "        vertical-align: middle;\n",
       "    }\n",
       "\n",
       "    .dataframe tbody tr th {\n",
       "        vertical-align: top;\n",
       "    }\n",
       "\n",
       "    .dataframe thead th {\n",
       "        text-align: right;\n",
       "    }\n",
       "</style>\n",
       "<table border=\"1\" class=\"dataframe\">\n",
       "  <thead>\n",
       "    <tr style=\"text-align: right;\">\n",
       "      <th></th>\n",
       "      <th>Product Name</th>\n",
       "      <th>CPU</th>\n",
       "      <th>RAM</th>\n",
       "      <th>OS</th>\n",
       "      <th>HD Capacity</th>\n",
       "      <th>Display</th>\n",
       "      <th>Price</th>\n",
       "      <th>Ratings</th>\n",
       "    </tr>\n",
       "  </thead>\n",
       "  <tbody>\n",
       "    <tr>\n",
       "      <th>count</th>\n",
       "      <td>142</td>\n",
       "      <td>142</td>\n",
       "      <td>142</td>\n",
       "      <td>142</td>\n",
       "      <td>142</td>\n",
       "      <td>142</td>\n",
       "      <td>142</td>\n",
       "      <td>142</td>\n",
       "    </tr>\n",
       "    <tr>\n",
       "      <th>unique</th>\n",
       "      <td>112</td>\n",
       "      <td>21</td>\n",
       "      <td>10</td>\n",
       "      <td>4</td>\n",
       "      <td>7</td>\n",
       "      <td>9</td>\n",
       "      <td>75</td>\n",
       "      <td>16</td>\n",
       "    </tr>\n",
       "    <tr>\n",
       "      <th>top</th>\n",
       "      <td>Lenovo Ideapad 3 Ryzen 3 Dual Core 3250U - (4 ...</td>\n",
       "      <td>Intel Core i5 Processor (10th Gen)</td>\n",
       "      <td>8 GB DDR4 RAM</td>\n",
       "      <td>64 bit Windows 10 Operating System</td>\n",
       "      <td>512 GB SSD</td>\n",
       "      <td>39.62 cm (15.6 inch) Display</td>\n",
       "      <td>64990</td>\n",
       "      <td>4.3</td>\n",
       "    </tr>\n",
       "    <tr>\n",
       "      <th>freq</th>\n",
       "      <td>5</td>\n",
       "      <td>39</td>\n",
       "      <td>78</td>\n",
       "      <td>134</td>\n",
       "      <td>60</td>\n",
       "      <td>68</td>\n",
       "      <td>8</td>\n",
       "      <td>24</td>\n",
       "    </tr>\n",
       "  </tbody>\n",
       "</table>\n",
       "</div>"
      ],
      "text/plain": [
       "                                             Product Name  \\\n",
       "count                                                 142   \n",
       "unique                                                112   \n",
       "top     Lenovo Ideapad 3 Ryzen 3 Dual Core 3250U - (4 ...   \n",
       "freq                                                    5   \n",
       "\n",
       "                                       CPU            RAM  \\\n",
       "count                                  142            142   \n",
       "unique                                  21             10   \n",
       "top     Intel Core i5 Processor (10th Gen)  8 GB DDR4 RAM   \n",
       "freq                                    39             78   \n",
       "\n",
       "                                        OS HD Capacity  \\\n",
       "count                                  142         142   \n",
       "unique                                   4           7   \n",
       "top     64 bit Windows 10 Operating System  512 GB SSD   \n",
       "freq                                   134          60   \n",
       "\n",
       "                             Display  Price Ratings  \n",
       "count                            142    142     142  \n",
       "unique                             9     75      16  \n",
       "top     39.62 cm (15.6 inch) Display  64990     4.3  \n",
       "freq                              68      8      24  "
      ]
     },
     "execution_count": 68,
     "metadata": {},
     "output_type": "execute_result"
    }
   ],
   "source": [
    "df.describe() # Describe data after cleaning and dtype conversion"
   ]
  },
  {
   "cell_type": "code",
   "execution_count": 69,
   "metadata": {},
   "outputs": [
    {
     "data": {
      "text/plain": [
       "Product Name    object\n",
       "CPU             object\n",
       "RAM             object\n",
       "OS              object\n",
       "HD Capacity     object\n",
       "Display         object\n",
       "Price           object\n",
       "Ratings         object\n",
       "dtype: object"
      ]
     },
     "execution_count": 69,
     "metadata": {},
     "output_type": "execute_result"
    }
   ],
   "source": [
    "df.dtypes"
   ]
  },
  {
   "cell_type": "code",
   "execution_count": 70,
   "metadata": {},
   "outputs": [],
   "source": [
    "# Changing data type of column 6 and 7 to float\n",
    "\n",
    "for i in range(6, 8, 1):\n",
    "    df.iloc[:, i] = df.iloc[:, i].astype(float).copy()\n",
    "    "
   ]
  },
  {
   "cell_type": "code",
   "execution_count": 71,
   "metadata": {},
   "outputs": [
    {
     "data": {
      "text/plain": [
       "Product Name     object\n",
       "CPU              object\n",
       "RAM              object\n",
       "OS               object\n",
       "HD Capacity      object\n",
       "Display          object\n",
       "Price           float64\n",
       "Ratings         float64\n",
       "dtype: object"
      ]
     },
     "execution_count": 71,
     "metadata": {},
     "output_type": "execute_result"
    }
   ],
   "source": [
    "df.dtypes ## Check data type of columns"
   ]
  },
  {
   "cell_type": "code",
   "execution_count": 72,
   "metadata": {},
   "outputs": [],
   "source": [
    "# Save cleaned and processed data to a cSV file\n",
    "\n",
    "df.to_csv('WebScrapingLaptops.csv', index=False)\n"
   ]
  },
  {
   "cell_type": "code",
   "execution_count": 73,
   "metadata": {},
   "outputs": [
    {
     "data": {
      "text/html": [
       "<div>\n",
       "<style scoped>\n",
       "    .dataframe tbody tr th:only-of-type {\n",
       "        vertical-align: middle;\n",
       "    }\n",
       "\n",
       "    .dataframe tbody tr th {\n",
       "        vertical-align: top;\n",
       "    }\n",
       "\n",
       "    .dataframe thead th {\n",
       "        text-align: right;\n",
       "    }\n",
       "</style>\n",
       "<table border=\"1\" class=\"dataframe\">\n",
       "  <thead>\n",
       "    <tr style=\"text-align: right;\">\n",
       "      <th></th>\n",
       "      <th>Product Name</th>\n",
       "      <th>CPU</th>\n",
       "      <th>RAM</th>\n",
       "      <th>OS</th>\n",
       "      <th>HD Capacity</th>\n",
       "      <th>Display</th>\n",
       "      <th>Price</th>\n",
       "      <th>Ratings</th>\n",
       "    </tr>\n",
       "  </thead>\n",
       "  <tbody>\n",
       "    <tr>\n",
       "      <th>0</th>\n",
       "      <td>Dell Inspiron 3505 Ryzen 3 Dual Core 3250U - (...</td>\n",
       "      <td>AMD Ryzen 3 Dual Core Processor</td>\n",
       "      <td>8 GB DDR4 RAM</td>\n",
       "      <td>64 bit Windows 10 Operating System</td>\n",
       "      <td>256 GB SSD</td>\n",
       "      <td>39.62 cm (15.6 inch) Display</td>\n",
       "      <td>34790.0</td>\n",
       "      <td>4.3</td>\n",
       "    </tr>\n",
       "    <tr>\n",
       "      <th>1</th>\n",
       "      <td>HP 14 Core i5 10th Gen - (8 GB/512 GB SSD/Wind...</td>\n",
       "      <td>Intel Core i5 Processor (10th Gen)</td>\n",
       "      <td>8 GB DDR4 RAM</td>\n",
       "      <td>64 bit Windows 10 Operating System</td>\n",
       "      <td>512 GB SSD</td>\n",
       "      <td>35.56 cm (14 inch) Display</td>\n",
       "      <td>47990.0</td>\n",
       "      <td>4.3</td>\n",
       "    </tr>\n",
       "    <tr>\n",
       "      <th>2</th>\n",
       "      <td>Asus Core i3 10th Gen - (4 GB/512 GB SSD/Windo...</td>\n",
       "      <td>Intel Core i3 Processor (10th Gen)</td>\n",
       "      <td>4 GB DDR4 RAM</td>\n",
       "      <td>64 bit Windows 10 Operating System</td>\n",
       "      <td>512 GB SSD</td>\n",
       "      <td>35.56 cm (14 inch) Display</td>\n",
       "      <td>36990.0</td>\n",
       "      <td>4.3</td>\n",
       "    </tr>\n",
       "    <tr>\n",
       "      <th>3</th>\n",
       "      <td>HP 15 Ryzen 3 Dual Core 3200U - (4 GB/1 TB HDD...</td>\n",
       "      <td>AMD Ryzen 3 Dual Core Processor</td>\n",
       "      <td>4 GB DDR4 RAM</td>\n",
       "      <td>64 bit Windows 10 Operating System</td>\n",
       "      <td>1 TB HDD</td>\n",
       "      <td>39.62 cm (15.6 inch) Display</td>\n",
       "      <td>31490.0</td>\n",
       "      <td>4.0</td>\n",
       "    </tr>\n",
       "    <tr>\n",
       "      <th>4</th>\n",
       "      <td>MSI Modern 14 Ryzen 5 Hexa Core 4500U - (8 GB/...</td>\n",
       "      <td>AMD Ryzen 5 Hexa Core Processor</td>\n",
       "      <td>8 GB DDR4 RAM</td>\n",
       "      <td>64 bit Windows 10 Operating System</td>\n",
       "      <td>512 GB SSD</td>\n",
       "      <td>35.56 cm (14 inch) Display</td>\n",
       "      <td>51990.0</td>\n",
       "      <td>4.6</td>\n",
       "    </tr>\n",
       "  </tbody>\n",
       "</table>\n",
       "</div>"
      ],
      "text/plain": [
       "                                        Product Name  \\\n",
       "0  Dell Inspiron 3505 Ryzen 3 Dual Core 3250U - (...   \n",
       "1  HP 14 Core i5 10th Gen - (8 GB/512 GB SSD/Wind...   \n",
       "2  Asus Core i3 10th Gen - (4 GB/512 GB SSD/Windo...   \n",
       "3  HP 15 Ryzen 3 Dual Core 3200U - (4 GB/1 TB HDD...   \n",
       "4  MSI Modern 14 Ryzen 5 Hexa Core 4500U - (8 GB/...   \n",
       "\n",
       "                                  CPU            RAM  \\\n",
       "0     AMD Ryzen 3 Dual Core Processor  8 GB DDR4 RAM   \n",
       "1  Intel Core i5 Processor (10th Gen)  8 GB DDR4 RAM   \n",
       "2  Intel Core i3 Processor (10th Gen)  4 GB DDR4 RAM   \n",
       "3     AMD Ryzen 3 Dual Core Processor  4 GB DDR4 RAM   \n",
       "4     AMD Ryzen 5 Hexa Core Processor  8 GB DDR4 RAM   \n",
       "\n",
       "                                   OS HD Capacity  \\\n",
       "0  64 bit Windows 10 Operating System  256 GB SSD   \n",
       "1  64 bit Windows 10 Operating System  512 GB SSD   \n",
       "2  64 bit Windows 10 Operating System  512 GB SSD   \n",
       "3  64 bit Windows 10 Operating System    1 TB HDD   \n",
       "4  64 bit Windows 10 Operating System  512 GB SSD   \n",
       "\n",
       "                        Display    Price  Ratings  \n",
       "0  39.62 cm (15.6 inch) Display  34790.0      4.3  \n",
       "1    35.56 cm (14 inch) Display  47990.0      4.3  \n",
       "2    35.56 cm (14 inch) Display  36990.0      4.3  \n",
       "3  39.62 cm (15.6 inch) Display  31490.0      4.0  \n",
       "4    35.56 cm (14 inch) Display  51990.0      4.6  "
      ]
     },
     "execution_count": 73,
     "metadata": {},
     "output_type": "execute_result"
    }
   ],
   "source": [
    "# Loading CSV file for analysis\n",
    "\n",
    "df1 = pd.read_csv('WebScrapingLaptops.csv')\n",
    "df1.head()"
   ]
  },
  {
   "cell_type": "code",
   "execution_count": 74,
   "metadata": {},
   "outputs": [
    {
     "data": {
      "text/plain": [
       "Product Name     0\n",
       "CPU              0\n",
       "RAM              0\n",
       "OS               0\n",
       "HD Capacity      0\n",
       "Display          0\n",
       "Price            0\n",
       "Ratings         22\n",
       "dtype: int64"
      ]
     },
     "execution_count": 74,
     "metadata": {},
     "output_type": "execute_result"
    }
   ],
   "source": [
    "df1.isnull().sum() # Check for null values"
   ]
  },
  {
   "cell_type": "code",
   "execution_count": 75,
   "metadata": {},
   "outputs": [
    {
     "data": {
      "text/plain": [
       "Product Name     0\n",
       "CPU              0\n",
       "RAM              0\n",
       "OS               0\n",
       "HD Capacity      0\n",
       "Display          0\n",
       "Price            0\n",
       "Ratings         22\n",
       "dtype: int64"
      ]
     },
     "execution_count": 75,
     "metadata": {},
     "output_type": "execute_result"
    }
   ],
   "source": [
    "df1.isna().sum() # checking for NaN values"
   ]
  },
  {
   "cell_type": "code",
   "execution_count": 76,
   "metadata": {
    "scrolled": true
   },
   "outputs": [
    {
     "name": "stdout",
     "output_type": "stream",
     "text": [
      "<class 'pandas.core.frame.DataFrame'>\n",
      "RangeIndex: 142 entries, 0 to 141\n",
      "Data columns (total 8 columns):\n",
      " #   Column        Non-Null Count  Dtype  \n",
      "---  ------        --------------  -----  \n",
      " 0   Product Name  142 non-null    object \n",
      " 1   CPU           142 non-null    object \n",
      " 2   RAM           142 non-null    object \n",
      " 3   OS            142 non-null    object \n",
      " 4   HD Capacity   142 non-null    object \n",
      " 5   Display       142 non-null    object \n",
      " 6   Price         142 non-null    float64\n",
      " 7   Ratings       120 non-null    float64\n",
      "dtypes: float64(2), object(6)\n",
      "memory usage: 9.0+ KB\n"
     ]
    }
   ],
   "source": [
    "# Complete information about the dataset\n",
    "\n",
    "df1.info()"
   ]
  },
  {
   "cell_type": "code",
   "execution_count": 77,
   "metadata": {},
   "outputs": [],
   "source": [
    "# Removing all NaN rows from data frame\n",
    "\n",
    "df1.dropna(axis=0, inplace=True)"
   ]
  },
  {
   "cell_type": "code",
   "execution_count": 78,
   "metadata": {},
   "outputs": [
    {
     "name": "stdout",
     "output_type": "stream",
     "text": [
      "<class 'pandas.core.frame.DataFrame'>\n",
      "Int64Index: 120 entries, 0 to 141\n",
      "Data columns (total 8 columns):\n",
      " #   Column        Non-Null Count  Dtype  \n",
      "---  ------        --------------  -----  \n",
      " 0   Product Name  120 non-null    object \n",
      " 1   CPU           120 non-null    object \n",
      " 2   RAM           120 non-null    object \n",
      " 3   OS            120 non-null    object \n",
      " 4   HD Capacity   120 non-null    object \n",
      " 5   Display       120 non-null    object \n",
      " 6   Price         120 non-null    float64\n",
      " 7   Ratings       120 non-null    float64\n",
      "dtypes: float64(2), object(6)\n",
      "memory usage: 8.4+ KB\n"
     ]
    }
   ],
   "source": [
    "# Dataset after removing NaN values\n",
    "\n",
    "df1.info()"
   ]
  },
  {
   "cell_type": "code",
   "execution_count": 85,
   "metadata": {},
   "outputs": [],
   "source": [
    "# Save cleaned and processed data to a cSV file\n",
    "\n",
    "df1.to_csv('WebScrapingLaptopsFinal.csv', index=False)\n"
   ]
  },
  {
   "cell_type": "code",
   "execution_count": 86,
   "metadata": {},
   "outputs": [
    {
     "data": {
      "text/html": [
       "<div>\n",
       "<style scoped>\n",
       "    .dataframe tbody tr th:only-of-type {\n",
       "        vertical-align: middle;\n",
       "    }\n",
       "\n",
       "    .dataframe tbody tr th {\n",
       "        vertical-align: top;\n",
       "    }\n",
       "\n",
       "    .dataframe thead th {\n",
       "        text-align: right;\n",
       "    }\n",
       "</style>\n",
       "<table border=\"1\" class=\"dataframe\">\n",
       "  <thead>\n",
       "    <tr style=\"text-align: right;\">\n",
       "      <th></th>\n",
       "      <th>Product Name</th>\n",
       "      <th>CPU</th>\n",
       "      <th>RAM</th>\n",
       "      <th>OS</th>\n",
       "      <th>HD Capacity</th>\n",
       "      <th>Display</th>\n",
       "      <th>Price</th>\n",
       "      <th>Ratings</th>\n",
       "    </tr>\n",
       "  </thead>\n",
       "  <tbody>\n",
       "    <tr>\n",
       "      <th>0</th>\n",
       "      <td>Dell Inspiron 3505 Ryzen 3 Dual Core 3250U - (...</td>\n",
       "      <td>AMD Ryzen 3 Dual Core Processor</td>\n",
       "      <td>8 GB DDR4 RAM</td>\n",
       "      <td>64 bit Windows 10 Operating System</td>\n",
       "      <td>256 GB SSD</td>\n",
       "      <td>39.62 cm (15.6 inch) Display</td>\n",
       "      <td>34790.0</td>\n",
       "      <td>4.3</td>\n",
       "    </tr>\n",
       "    <tr>\n",
       "      <th>1</th>\n",
       "      <td>HP 14 Core i5 10th Gen - (8 GB/512 GB SSD/Wind...</td>\n",
       "      <td>Intel Core i5 Processor (10th Gen)</td>\n",
       "      <td>8 GB DDR4 RAM</td>\n",
       "      <td>64 bit Windows 10 Operating System</td>\n",
       "      <td>512 GB SSD</td>\n",
       "      <td>35.56 cm (14 inch) Display</td>\n",
       "      <td>47990.0</td>\n",
       "      <td>4.3</td>\n",
       "    </tr>\n",
       "    <tr>\n",
       "      <th>2</th>\n",
       "      <td>Asus Core i3 10th Gen - (4 GB/512 GB SSD/Windo...</td>\n",
       "      <td>Intel Core i3 Processor (10th Gen)</td>\n",
       "      <td>4 GB DDR4 RAM</td>\n",
       "      <td>64 bit Windows 10 Operating System</td>\n",
       "      <td>512 GB SSD</td>\n",
       "      <td>35.56 cm (14 inch) Display</td>\n",
       "      <td>36990.0</td>\n",
       "      <td>4.3</td>\n",
       "    </tr>\n",
       "    <tr>\n",
       "      <th>3</th>\n",
       "      <td>HP 15 Ryzen 3 Dual Core 3200U - (4 GB/1 TB HDD...</td>\n",
       "      <td>AMD Ryzen 3 Dual Core Processor</td>\n",
       "      <td>4 GB DDR4 RAM</td>\n",
       "      <td>64 bit Windows 10 Operating System</td>\n",
       "      <td>1 TB HDD</td>\n",
       "      <td>39.62 cm (15.6 inch) Display</td>\n",
       "      <td>31490.0</td>\n",
       "      <td>4.0</td>\n",
       "    </tr>\n",
       "    <tr>\n",
       "      <th>4</th>\n",
       "      <td>MSI Modern 14 Ryzen 5 Hexa Core 4500U - (8 GB/...</td>\n",
       "      <td>AMD Ryzen 5 Hexa Core Processor</td>\n",
       "      <td>8 GB DDR4 RAM</td>\n",
       "      <td>64 bit Windows 10 Operating System</td>\n",
       "      <td>512 GB SSD</td>\n",
       "      <td>35.56 cm (14 inch) Display</td>\n",
       "      <td>51990.0</td>\n",
       "      <td>4.6</td>\n",
       "    </tr>\n",
       "  </tbody>\n",
       "</table>\n",
       "</div>"
      ],
      "text/plain": [
       "                                        Product Name  \\\n",
       "0  Dell Inspiron 3505 Ryzen 3 Dual Core 3250U - (...   \n",
       "1  HP 14 Core i5 10th Gen - (8 GB/512 GB SSD/Wind...   \n",
       "2  Asus Core i3 10th Gen - (4 GB/512 GB SSD/Windo...   \n",
       "3  HP 15 Ryzen 3 Dual Core 3200U - (4 GB/1 TB HDD...   \n",
       "4  MSI Modern 14 Ryzen 5 Hexa Core 4500U - (8 GB/...   \n",
       "\n",
       "                                  CPU            RAM  \\\n",
       "0     AMD Ryzen 3 Dual Core Processor  8 GB DDR4 RAM   \n",
       "1  Intel Core i5 Processor (10th Gen)  8 GB DDR4 RAM   \n",
       "2  Intel Core i3 Processor (10th Gen)  4 GB DDR4 RAM   \n",
       "3     AMD Ryzen 3 Dual Core Processor  4 GB DDR4 RAM   \n",
       "4     AMD Ryzen 5 Hexa Core Processor  8 GB DDR4 RAM   \n",
       "\n",
       "                                   OS HD Capacity  \\\n",
       "0  64 bit Windows 10 Operating System  256 GB SSD   \n",
       "1  64 bit Windows 10 Operating System  512 GB SSD   \n",
       "2  64 bit Windows 10 Operating System  512 GB SSD   \n",
       "3  64 bit Windows 10 Operating System    1 TB HDD   \n",
       "4  64 bit Windows 10 Operating System  512 GB SSD   \n",
       "\n",
       "                        Display    Price  Ratings  \n",
       "0  39.62 cm (15.6 inch) Display  34790.0      4.3  \n",
       "1    35.56 cm (14 inch) Display  47990.0      4.3  \n",
       "2    35.56 cm (14 inch) Display  36990.0      4.3  \n",
       "3  39.62 cm (15.6 inch) Display  31490.0      4.0  \n",
       "4    35.56 cm (14 inch) Display  51990.0      4.6  "
      ]
     },
     "execution_count": 86,
     "metadata": {},
     "output_type": "execute_result"
    }
   ],
   "source": [
    "df2 = pd.read_csv('WebScrapingLaptopsFinal.csv')\n",
    "df2.head()"
   ]
  },
  {
   "cell_type": "code",
   "execution_count": 87,
   "metadata": {
    "scrolled": false
   },
   "outputs": [
    {
     "data": {
      "text/html": [
       "<div>\n",
       "<style scoped>\n",
       "    .dataframe tbody tr th:only-of-type {\n",
       "        vertical-align: middle;\n",
       "    }\n",
       "\n",
       "    .dataframe tbody tr th {\n",
       "        vertical-align: top;\n",
       "    }\n",
       "\n",
       "    .dataframe thead th {\n",
       "        text-align: right;\n",
       "    }\n",
       "</style>\n",
       "<table border=\"1\" class=\"dataframe\">\n",
       "  <thead>\n",
       "    <tr style=\"text-align: right;\">\n",
       "      <th></th>\n",
       "      <th>Price</th>\n",
       "      <th>Ratings</th>\n",
       "    </tr>\n",
       "  </thead>\n",
       "  <tbody>\n",
       "    <tr>\n",
       "      <th>count</th>\n",
       "      <td>120.000000</td>\n",
       "      <td>120.000000</td>\n",
       "    </tr>\n",
       "    <tr>\n",
       "      <th>mean</th>\n",
       "      <td>61707.875000</td>\n",
       "      <td>4.319167</td>\n",
       "    </tr>\n",
       "    <tr>\n",
       "      <th>std</th>\n",
       "      <td>32334.675517</td>\n",
       "      <td>0.307141</td>\n",
       "    </tr>\n",
       "    <tr>\n",
       "      <th>min</th>\n",
       "      <td>21990.000000</td>\n",
       "      <td>3.600000</td>\n",
       "    </tr>\n",
       "    <tr>\n",
       "      <th>25%</th>\n",
       "      <td>39580.000000</td>\n",
       "      <td>4.175000</td>\n",
       "    </tr>\n",
       "    <tr>\n",
       "      <th>50%</th>\n",
       "      <td>52490.000000</td>\n",
       "      <td>4.300000</td>\n",
       "    </tr>\n",
       "    <tr>\n",
       "      <th>75%</th>\n",
       "      <td>73240.000000</td>\n",
       "      <td>4.500000</td>\n",
       "    </tr>\n",
       "    <tr>\n",
       "      <th>max</th>\n",
       "      <td>182990.000000</td>\n",
       "      <td>5.000000</td>\n",
       "    </tr>\n",
       "  </tbody>\n",
       "</table>\n",
       "</div>"
      ],
      "text/plain": [
       "               Price     Ratings\n",
       "count     120.000000  120.000000\n",
       "mean    61707.875000    4.319167\n",
       "std     32334.675517    0.307141\n",
       "min     21990.000000    3.600000\n",
       "25%     39580.000000    4.175000\n",
       "50%     52490.000000    4.300000\n",
       "75%     73240.000000    4.500000\n",
       "max    182990.000000    5.000000"
      ]
     },
     "execution_count": 87,
     "metadata": {},
     "output_type": "execute_result"
    }
   ],
   "source": [
    "## Describing data after cleaning and dtype conversion\n",
    "\n",
    "df2.describe() "
   ]
  },
  {
   "cell_type": "code",
   "execution_count": 88,
   "metadata": {},
   "outputs": [
    {
     "data": {
      "image/png": "[encoded data removed]",
      "text/plain": [
       "<Figure size 1080x432 with 2 Axes>"
      ]
     },
     "metadata": {
      "needs_background": "light"
     },
     "output_type": "display_data"
    }
   ],
   "source": [
    "# Histogram of Price and Rating \n",
    "\n",
    "fig, ax = plt.subplots(nrows = 1, ncols = 2, figsize=(15,6))\n",
    "ax[0].hist(df2['Price'], bins= 10, edgecolor = 'k')\n",
    "ax[0].set_title('Price of the laptops', fontsize=18)\n",
    "ax[1].hist(df2['Ratings'], bins= 10, edgecolor = 'k', color= 'red')\n",
    "ax[1].set_title('Ratings of the laptops', fontsize=18);"
   ]
  },
  {
   "cell_type": "code",
   "execution_count": 89,
   "metadata": {},
   "outputs": [
    {
     "data": {
      "image/png": "[encoded data removed]",
      "text/plain": [
       "<Figure size 1080x360 with 2 Axes>"
      ]
     },
     "metadata": {
      "needs_background": "light"
     },
     "output_type": "display_data"
    }
   ],
   "source": [
    "# KDE plot showing price and ratings\n",
    "\n",
    "plt.figure(figsize=(15,5))\n",
    "plt.subplot(1,2,1)\n",
    "sns.kdeplot(x='Price',  data = df2, shade = True)\n",
    "plt.xlabel('Price')\n",
    "plt.ylabel('Density')\n",
    "plt.title('Price of Laptops', fontsize=18)\n",
    "plt.subplot(1,2,2)\n",
    "sns.kdeplot(x='Ratings',  data = df2, shade = True)\n",
    "plt.xlabel('Ratings')\n",
    "plt.ylabel('Density')\n",
    "plt.title('Ratings of Laptops', fontsize=18)\n",
    "plt.show();"
   ]
  },
  {
   "cell_type": "code",
   "execution_count": 90,
   "metadata": {},
   "outputs": [
    {
     "data": {
      "image/png": "[encoded data removed]",
      "text/plain": [
       "<Figure size 504x504 with 3 Axes>"
      ]
     },
     "metadata": {
      "needs_background": "light"
     },
     "output_type": "display_data"
    }
   ],
   "source": [
    "# Joint plot showing distribution of ratings over price range\n",
    "\n",
    "import warnings\n",
    "\n",
    "warnings.filterwarnings('ignore')\n",
    "\n",
    "sns.jointplot(\"Ratings\", \"Price\", data=df2, height=7)\n",
    "plt.title('Price Vs. Ratings', fontsize=18, loc='left')\n",
    "plt.show();"
   ]
  },
  {
   "cell_type": "code",
   "execution_count": 91,
   "metadata": {},
   "outputs": [
    {
     "data": {
      "image/png": "[encoded data removed]",
      "text/plain": [
       "<Figure size 1152x1440 with 4 Axes>"
      ]
     },
     "metadata": {
      "needs_background": "light"
     },
     "output_type": "display_data"
    }
   ],
   "source": [
    "# The box plot here gives us a detailed visualization about the price range of different configuration of laptops.\n",
    "\n",
    "plt.figure(figsize=(16,20))\n",
    "plt.subplot(2,2,1)\n",
    "sns.boxplot(x=df2['CPU'],y=df2['Price'],data=df2)\n",
    "plt.xlabel('CPU')\n",
    "plt.ylabel('Price')\n",
    "plt.title('CPU Vs Price', fontsize=18)\n",
    "plt.xticks(rotation=90)\n",
    "plt.subplot(2,2,2)\n",
    "sns.boxplot(x=df2['RAM'],y=df2['Price'],data=df2)\n",
    "plt.xlabel('RAM')\n",
    "plt.ylabel('Price')\n",
    "plt.title('RAM Vs Price', fontsize=18)\n",
    "plt.xticks(rotation=80)\n",
    "\n",
    "plt.subplot(2,2,3)\n",
    "sns.boxplot(x=df2['HD Capacity'],y=df2['Price'],data=df2)\n",
    "plt.xlabel('HD Capacity')\n",
    "plt.ylabel('Price')\n",
    "plt.title('HD Capacity Vs Price', fontsize=18)\n",
    "plt.xticks(rotation=80)\n",
    "plt.subplot(2,2,4)\n",
    "sns.boxplot(x=df2['Display'],y=df2['Price'],data=df2)\n",
    "plt.xlabel('Display')\n",
    "plt.ylabel('Price')\n",
    "plt.title('Display Vs Price', fontsize=18)\n",
    "plt.xticks(rotation=80)\n",
    "plt.tight_layout()\n",
    "plt.show();"
   ]
  },
  {
   "cell_type": "code",
   "execution_count": 92,
   "metadata": {},
   "outputs": [
    {
     "data": {
      "image/png": "[encoded data removed]",
      "text/plain": [
       "<Figure size 1080x360 with 1 Axes>"
      ]
     },
     "metadata": {
      "needs_background": "light"
     },
     "output_type": "display_data"
    }
   ],
   "source": [
    "# Below bar graph shows operating systems available for different price range.\n",
    "\n",
    "plt.figure(figsize=(15, 5))\n",
    "plt.bar(df2['OS'], df2['Price'], color='brown')\n",
    "plt.xticks(rotation=0)\n",
    "plt.xlabel('Operating System')\n",
    "plt.ylabel('Price')\n",
    "plt.title('Operating System Vs Price', fontsize=18)\n",
    "plt.show()"
   ]
  }
 ],
 "metadata": {
  "colab": {
   "collapsed_sections": [],
   "name": "Capstone_Project_Analysis_in_Class",
   "provenance": []
  },
  "kernelspec": {
   "display_name": "Python 3 (ipykernel)",
   "language": "python",
   "name": "python3"
  },
  "language_info": {
   "codemirror_mode": {
    "name": "ipython",
    "version": 3
   },
   "file_extension": ".py",
   "mimetype": "text/x-python",
   "name": "python",
   "nbconvert_exporter": "python",
   "pygments_lexer": "ipython3",
   "version": "3.9.7"
  }
 },
 "nbformat": 4,
 "nbformat_minor": 1
}
